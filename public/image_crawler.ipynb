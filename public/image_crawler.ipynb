{
 "cells": [
  {
   "cell_type": "code",
   "execution_count": 1,
   "metadata": {},
   "outputs": [
    {
     "name": "stdout",
     "output_type": "stream",
     "text": [
      " 100.00% 25908 / 25909: /i/049000/049736_hr1.png"
     ]
    }
   ],
   "source": [
    "import pandas as pd\n",
    "import os\n",
    "\n",
    "data = pd.read_json('../src/json/filtered_item.json')\n",
    "for i, url in enumerate(data['Icon']):\n",
    "    path = '.' +'/'.join(url.split('/')[:-1])\n",
    "    filename = url.split('/')[-1]\n",
    "\n",
    "    if not os.path.exists(path):\n",
    "        os.makedirs(path)\n",
    "\n",
    "    if not os.path.exists(os.path.join(path, filename)):\n",
    "        os.system('curl https://xivapi.com' +url +' > ' +os.path.join(path, filename))\n",
    "\n",
    "    print(f'\\r{i/len(data['Icon']): .2%} {i} / {len(data['Icon'])}: {url}', end='')"
   ]
  }
 ],
 "metadata": {
  "kernelspec": {
   "display_name": "base",
   "language": "python",
   "name": "python3"
  },
  "language_info": {
   "codemirror_mode": {
    "name": "ipython",
    "version": 3
   },
   "file_extension": ".py",
   "mimetype": "text/x-python",
   "name": "python",
   "nbconvert_exporter": "python",
   "pygments_lexer": "ipython3",
   "version": "3.12.4"
  }
 },
 "nbformat": 4,
 "nbformat_minor": 2
}
